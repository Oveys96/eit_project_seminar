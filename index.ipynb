{
 "cells": [
  {
   "cell_type": "markdown",
   "id": "9c557bef-80cd-4cca-b563-5cdc24b29601",
   "metadata": {},
   "source": [
    "# Seminar EIT\n",
    "\n",
    "## Different Image recunstructions methods in EIT\n",
    "\n",
    "- [1 Circle at center](codes/methods/one_obj_cent.ipynb)\n",
    "- [1 Circle at side](codes/methods/one_obj_side.ipynb)\n",
    "- [2 Circle at sides](codes/methods/two_obj_sides.ipynb)\n",
    "- [2 Different circle at sides](codes/methods/twoD_obj_sides.ipynb)\n",
    "- [Comparison of addjacent and opposite current injection](codes/methods/adjandopp.ipynb)\n",
    "- [Triangle and Circle ](codes/methods/geometry.ipynb)"
   ]
  }
 ],
 "metadata": {
  "kernelspec": {
   "display_name": "Python 3 (ipykernel)",
   "language": "python",
   "name": "python3"
  },
  "language_info": {
   "codemirror_mode": {
    "name": "ipython",
    "version": 3
   },
   "file_extension": ".py",
   "mimetype": "text/x-python",
   "name": "python",
   "nbconvert_exporter": "python",
   "pygments_lexer": "ipython3",
   "version": "3.11.0"
  }
 },
 "nbformat": 4,
 "nbformat_minor": 5
}
